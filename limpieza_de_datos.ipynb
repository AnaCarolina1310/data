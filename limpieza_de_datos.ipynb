{
 "cells": [
  {
   "cell_type": "code",
   "execution_count": 79,
   "metadata": {},
   "outputs": [],
   "source": [
    "import pandas as pd\n",
    "import numpy as np"
   ]
  },
  {
   "cell_type": "code",
   "execution_count": 80,
   "metadata": {},
   "outputs": [],
   "source": [
    "df = pd.read_csv('./insurance.csv')\n",
    "df_copy = df.copy()"
   ]
  },
  {
   "cell_type": "code",
   "execution_count": 89,
   "metadata": {},
   "outputs": [
    {
     "data": {
      "text/plain": [
       "Edad       0\n",
       "Sexo       0\n",
       "IMC        0\n",
       "Hijos      0\n",
       "Fumador    0\n",
       "Región     0\n",
       "Cargo      0\n",
       "dtype: int64"
      ]
     },
     "execution_count": 89,
     "metadata": {},
     "output_type": "execute_result"
    }
   ],
   "source": [
    "#Conteo de valores nulos.\n",
    "df_copy.isnull().sum()"
   ]
  },
  {
   "cell_type": "code",
   "execution_count": 82,
   "metadata": {},
   "outputs": [],
   "source": [
    "#Renombramos las columnas.\n",
    "df_copy.rename(columns={'age':'Edad', 'sex': 'Sexo', 'bmi': 'IMC', 'children': 'Hijos', 'smoker': 'Fumador', 'region': 'Región', \n",
    "                        'charges': 'Cargo'}, inplace=True)"
   ]
  },
  {
   "cell_type": "code",
   "execution_count": 83,
   "metadata": {},
   "outputs": [],
   "source": [
    "#Remplazamos valores en columna sexo.\n",
    "df_copy['Sexo']=df_copy['Sexo'].replace('female', 'Mujer')\n",
    "df_copy['Sexo']=df_copy['Sexo'].replace('male', 'Hombre')"
   ]
  },
  {
   "cell_type": "code",
   "execution_count": 84,
   "metadata": {},
   "outputs": [],
   "source": [
    "#Convertimos el índice de masa corporal de float a entero. \n",
    "df_copy['IMC']=df_copy['IMC'].astype(int)"
   ]
  },
  {
   "cell_type": "code",
   "execution_count": 85,
   "metadata": {},
   "outputs": [],
   "source": [
    "#Remplazamos valores en columna fumador.\n",
    "df_copy['Fumador']=df_copy['Fumador'].replace('yes', 'Si')\n",
    "df_copy['Fumador']=df_copy['Fumador'].replace('no', 'No')"
   ]
  },
  {
   "cell_type": "code",
   "execution_count": 86,
   "metadata": {},
   "outputs": [],
   "source": [
    "#Remplazamos valores en columna región.\n",
    "df_copy['Región']=df_copy['Región'].replace('southwest', 'Suroeste')\n",
    "df_copy['Región']=df_copy['Región'].replace('southeast', 'Sureste')\n",
    "df_copy['Región']=df_copy['Región'].replace('northwest', 'Noroeste')\n",
    "df_copy['Región']=df_copy['Región'].replace('northeast', 'Noreste')"
   ]
  },
  {
   "cell_type": "code",
   "execution_count": 87,
   "metadata": {},
   "outputs": [],
   "source": [
    "#Convertimos el cargo de float a entero. \n",
    "df_copy['Cargo']=df_copy['Cargo'].astype(int)"
   ]
  },
  {
   "cell_type": "code",
   "execution_count": 90,
   "metadata": {},
   "outputs": [
    {
     "data": {
      "text/html": [
       "<div>\n",
       "<style scoped>\n",
       "    .dataframe tbody tr th:only-of-type {\n",
       "        vertical-align: middle;\n",
       "    }\n",
       "\n",
       "    .dataframe tbody tr th {\n",
       "        vertical-align: top;\n",
       "    }\n",
       "\n",
       "    .dataframe thead th {\n",
       "        text-align: right;\n",
       "    }\n",
       "</style>\n",
       "<table border=\"1\" class=\"dataframe\">\n",
       "  <thead>\n",
       "    <tr style=\"text-align: right;\">\n",
       "      <th></th>\n",
       "      <th>Edad</th>\n",
       "      <th>Sexo</th>\n",
       "      <th>IMC</th>\n",
       "      <th>Hijos</th>\n",
       "      <th>Fumador</th>\n",
       "      <th>Región</th>\n",
       "      <th>Cargo</th>\n",
       "    </tr>\n",
       "  </thead>\n",
       "  <tbody>\n",
       "    <tr>\n",
       "      <th>0</th>\n",
       "      <td>19</td>\n",
       "      <td>Mujer</td>\n",
       "      <td>27</td>\n",
       "      <td>0</td>\n",
       "      <td>Si</td>\n",
       "      <td>Suroeste</td>\n",
       "      <td>16884</td>\n",
       "    </tr>\n",
       "    <tr>\n",
       "      <th>1</th>\n",
       "      <td>18</td>\n",
       "      <td>Hombre</td>\n",
       "      <td>33</td>\n",
       "      <td>1</td>\n",
       "      <td>No</td>\n",
       "      <td>Sureste</td>\n",
       "      <td>1725</td>\n",
       "    </tr>\n",
       "    <tr>\n",
       "      <th>2</th>\n",
       "      <td>28</td>\n",
       "      <td>Hombre</td>\n",
       "      <td>33</td>\n",
       "      <td>3</td>\n",
       "      <td>No</td>\n",
       "      <td>Sureste</td>\n",
       "      <td>4449</td>\n",
       "    </tr>\n",
       "    <tr>\n",
       "      <th>3</th>\n",
       "      <td>33</td>\n",
       "      <td>Hombre</td>\n",
       "      <td>22</td>\n",
       "      <td>0</td>\n",
       "      <td>No</td>\n",
       "      <td>Noroeste</td>\n",
       "      <td>21984</td>\n",
       "    </tr>\n",
       "    <tr>\n",
       "      <th>4</th>\n",
       "      <td>32</td>\n",
       "      <td>Hombre</td>\n",
       "      <td>28</td>\n",
       "      <td>0</td>\n",
       "      <td>No</td>\n",
       "      <td>Noroeste</td>\n",
       "      <td>3866</td>\n",
       "    </tr>\n",
       "  </tbody>\n",
       "</table>\n",
       "</div>"
      ],
      "text/plain": [
       "   Edad    Sexo  IMC  Hijos Fumador    Región  Cargo\n",
       "0    19   Mujer   27      0      Si  Suroeste  16884\n",
       "1    18  Hombre   33      1      No   Sureste   1725\n",
       "2    28  Hombre   33      3      No   Sureste   4449\n",
       "3    33  Hombre   22      0      No  Noroeste  21984\n",
       "4    32  Hombre   28      0      No  Noroeste   3866"
      ]
     },
     "execution_count": 90,
     "metadata": {},
     "output_type": "execute_result"
    }
   ],
   "source": [
    "df_copy.head(5)"
   ]
  },
  {
   "cell_type": "code",
   "execution_count": 93,
   "metadata": {},
   "outputs": [],
   "source": [
    "df_copy.to_csv('./insurance_cleaned.csv', index=False)"
   ]
  }
 ],
 "metadata": {
  "kernelspec": {
   "display_name": "Python 3",
   "language": "python",
   "name": "python3"
  },
  "language_info": {
   "codemirror_mode": {
    "name": "ipython",
    "version": 3
   },
   "file_extension": ".py",
   "mimetype": "text/x-python",
   "name": "python",
   "nbconvert_exporter": "python",
   "pygments_lexer": "ipython3",
   "version": "3.12.1"
  }
 },
 "nbformat": 4,
 "nbformat_minor": 2
}
